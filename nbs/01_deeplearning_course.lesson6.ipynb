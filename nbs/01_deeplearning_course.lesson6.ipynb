{
 "cells": [
  {
   "cell_type": "markdown",
   "metadata": {},
   "source": [
    "# Working on lesson 6\n",
    "> Adding more tools to c8bot"
   ]
  },
  {
   "cell_type": "code",
   "execution_count": 1,
   "metadata": {},
   "outputs": [],
   "source": [
    "#| default_exp deeplearning_course.lesson6"
   ]
  },
  {
   "cell_type": "code",
   "execution_count": 4,
   "id": "457fc412",
   "metadata": {},
   "outputs": [],
   "source": [
    "#| export\n",
    "\n",
    "import nbdev; nbdev.nbdev_export('01_deeplearning_course.lesson6.ipynb')"
   ]
  },
  {
   "cell_type": "code",
   "execution_count": null,
   "id": "068aba27",
   "metadata": {},
   "outputs": [],
   "source": []
  }
 ],
 "metadata": {
  "kernelspec": {
   "display_name": "base",
   "language": "python",
   "name": "python3"
  },
  "language_info": {
   "codemirror_mode": {
    "name": "ipython",
    "version": 3
   },
   "file_extension": ".py",
   "mimetype": "text/x-python",
   "name": "python",
   "nbconvert_exporter": "python",
   "pygments_lexer": "ipython3",
   "version": "3.11.8"
  }
 },
 "nbformat": 4,
 "nbformat_minor": 5
}
